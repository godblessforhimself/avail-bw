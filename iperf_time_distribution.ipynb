{
 "cells": [
  {
   "cell_type": "code",
   "execution_count": 1,
   "metadata": {},
   "outputs": [],
   "source": [
    "import matplotlib.pyplot as plt\n",
    "import numpy as np\n",
    "import time\n",
    "from scapy.all import *\n",
    "in_traffic_filename='catch_traffic_dir/in_traffic_{}.pcap'\n",
    "out_traffic_filename='catch_traffic_dir/out_traffic_{}.pcap'\n",
    "traffic_speed=[10,100,500,1000]\n",
    "def cdf(x, plot=True, *args, **kwargs):\n",
    "    x, y = sorted(x), np.arange(len(x)) / len(x)\n",
    "    return plt.plot(x, y, *args, **kwargs) if plot else (x, y)\n",
    "\n",
    "begin=time.time()\n",
    "in_timestamp_list=[]\n",
    "out_timestamp_list=[]\n",
    "for speed in traffic_speed:\n",
    "    in_pkts=rdpcap(in_traffic_filename.format(speed))\n",
    "    out_pkts=rdpcap(out_traffic_filename.format(speed))\n",
    "    in_timestamps=np.array([np.float64(p.time) for p in in_pkts])\n",
    "    out_timestamps=np.array([np.float64(p.time) for p in out_pkts])\n",
    "    in_timestamp_list.append(in_timestamps)\n",
    "    out_timestamp_list.append(out_timestamps)\n",
    "end=time.time()\n",
    "print('use {} seconds'.format(end-begin))\n",
    "\n",
    "in_dt_list=[]\n",
    "out_dt_list=[]\n",
    "delay_list=[]\n",
    "scale=1e6\n",
    "for i in range(0,len(traffic_speed)):\n",
    "    in_,out_=in_timestamp_list[i],out_timestamp_list[i]\n",
    "    in_dt=(in_[1:]-in_[:-1])*scale\n",
    "    out_dt=(out_[1:]-out_[:-1])*scale\n",
    "    delay=(out_-in_)*scale\n",
    "    in_dt_list.append(in_dt)\n",
    "    out_dt_list.append(out_dt)\n",
    "    delay_list.append(delay)\n",
    "\n",
    "plt.figure(figsize=(20,15))\n",
    "for i in range(0,len(traffic_speed)):\n",
    "    expected_interval=1472*8/traffic_speed[i]\n",
    "    ax=plt.subplot(3,len(traffic_speed),i+1)\n",
    "    cdf(in_dt_list[i],True)\n",
    "    #plt.hist(in_dt_list[i],bins=100,cumulative=True,histtype='step',density=True)\n",
    "    ax.title.set_text(\"in: speed %dMbps(us)\" % traffic_speed[i])\n",
    "    ax=plt.subplot(3,len(traffic_speed),i+1+len(traffic_speed))\n",
    "    cdf(out_dt_list[i],True)\n",
    "    #plt.plot([expected_interval, expected_interval], [0, 10000], color='r', linestyle='-', linewidth=1)\n",
    "    ax.title.set_text(\"out: speed %dMbps(us)\" % traffic_speed[i])\n",
    "    ax=plt.subplot(3,len(traffic_speed),i+1+len(traffic_speed)*2)\n",
    "    cdf(delay_list[i],True)\n",
    "    ax.title.set_text(\"delay: speed %dMbps(us)\" % traffic_speed[i])\n",
    "#plt.savefig('iperf_packet_distribution_cdf_2.png')"
   ]
  }
 ],
 "metadata": {
  "kernelspec": {
   "display_name": "base",
   "language": "python",
   "name": "base"
  },
  "language_info": {
   "codemirror_mode": {
    "name": "ipython",
    "version": 3
   },
   "file_extension": ".py",
   "mimetype": "text/x-python",
   "name": "python",
   "nbconvert_exporter": "python",
   "pygments_lexer": "ipython3",
   "version": "3.7.6"
  }
 },
 "nbformat": 4,
 "nbformat_minor": 4
}
